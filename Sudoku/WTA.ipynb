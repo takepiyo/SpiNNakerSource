{
 "cells": [
  {
   "cell_type": "code",
   "execution_count": null,
   "metadata": {},
   "outputs": [],
   "source": [
    "import spynnaker8 as p\n",
    "from spynnaker.pyNN.models.neuron.builds import IFCondExpStoc\n",
    "from pyNN.random import RandomDistribution\n",
    "from pyNN.utility.plotting import Figure, Panel\n",
    "import numpy as np\n",
    "import matplotlib.pyplot as plt\n",
    "import random\n"
   ]
  },
  {
   "cell_type": "code",
   "execution_count": null,
   "metadata": {},
   "outputs": [],
   "source": [
    "p.setup(timestep=1.0)\n",
    "p.set_number_of_neurons_per_core(IFCondExpStoc, 100)\n",
    "\n",
    "exc = p.Population(10, IFCondExpStoc(), label=\"exc\")\n",
    "inh = p.Population(1, IFCondExpStoc(), label=\"inh\")\n",
    "\n",
    "input = p.Population(2, p.SpikeSourceArray(\n",
    "    [[5.0, 25.0], [15.0, 35.0]]), label=\"input\")\n",
    "\n",
    "p.Projection(input, exc, p.FromListConnector([(0, 0, 15.0, 1.0)]))\n",
    "p.Projection(input, exc, p.FromListConnector([(1, 5, 15.0, 1.0)]))\n",
    "\n",
    "p.Projection(exc, inh, p.AllToAllConnector(), synapse_type=p.StaticSynapse(\n",
    "    weight=10.0, delay=1.0), receptor_type=\"excitatory\")\n",
    "p.Projection(exc, inh, p.AllToAllConnector(), synapse_type=p.StaticSynapse(\n",
    "    weight=10.0, delay=1.0), receptor_type=\"inhibitory\")\n",
    "\n",
    "exc.record([\"v\", \"spikes\"])"
   ]
  },
  {
   "cell_type": "code",
   "execution_count": null,
   "metadata": {},
   "outputs": [],
   "source": [
    "p.run(40.0)"
   ]
  },
  {
   "cell_type": "code",
   "execution_count": null,
   "metadata": {},
   "outputs": [],
   "source": [
    "spikes = exc.get_data('spikes')\n",
    "\n",
    "figure_filename = \"results.png\"\n",
    "figure = Figure(\n",
    "    Panel(spikes.segments[0].spiketrains, yticks=True, xticks=True,\n",
    "          markersize=0.5, xlim=(0, 40.0)),\n",
    "    title=\"Task WTA\",\n",
    "    annotations=\"Simulated with {}\".format(p.name())\n",
    ")\n",
    "figure.save(figure_filename)\n",
    "# plt.show()\n",
    "p.end()"
   ]
  },
  {
   "cell_type": "code",
   "execution_count": null,
   "metadata": {},
   "outputs": [],
   "source": []
  }
 ],
 "metadata": {
  "language_info": {
   "name": "python"
  },
  "orig_nbformat": 4
 },
 "nbformat": 4,
 "nbformat_minor": 2
}

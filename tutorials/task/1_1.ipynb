{
 "cells": [
  {
   "cell_type": "code",
   "execution_count": 1,
   "metadata": {},
   "outputs": [],
   "source": [
    "import pyNN.spiNNaker as sim\n",
    "from pyNN.utility.plotting import Figure, Panel\n",
    "import matplotlib.pyplot as plt"
   ]
  },
  {
   "cell_type": "code",
   "execution_count": 2,
   "metadata": {},
   "outputs": [
    {
     "name": "stderr",
     "output_type": "stream",
     "text": [
      "2022-03-14 16:33:27 INFO: Read cfg files: /home/takeshi/.pyenv/versions/3.8.9/envs/spinnaker/lib/python3.8/site-packages/spinn_front_end_common/interface/spinnaker.cfg, /home/takeshi/.pyenv/versions/3.8.9/envs/spinnaker/lib/python3.8/site-packages/spynnaker/pyNN/spynnaker.cfg, /home/takeshi/.spynnaker.cfg\n",
      "2022-03-14 16:33:27 INFO: Will search these locations for binaries: /home/takeshi/.pyenv/versions/3.8.9/envs/spinnaker/lib/python3.8/site-packages/spinn_front_end_common/common_model_binaries : /home/takeshi/.pyenv/versions/3.8.9/envs/spinnaker/lib/python3.8/site-packages/spynnaker/pyNN/model_binaries\n",
      "2022-03-14 16:33:27 INFO: Setting time scale factor to 10.\n",
      "2022-03-14 16:33:27 INFO: Setting machine time step to 1000 micro-seconds.\n"
     ]
    },
    {
     "name": "stdout",
     "output_type": "stream",
     "text": [
      "['/home/takeshi/.pyenv/versions/3.8.9/envs/spinnaker/lib/python3.8/site-packages/spinn_front_end_common/interface/spinnaker.cfg', '/home/takeshi/.pyenv/versions/3.8.9/envs/spinnaker/lib/python3.8/site-packages/spynnaker/pyNN/spynnaker.cfg', '/home/takeshi/.spynnaker.cfg']\n"
     ]
    }
   ],
   "source": [
    "sim.setup(timestep=1.0)\n",
    "sim.set_number_of_neurons_per_core(sim.IF_curr_exp, 100)\n",
    "\n",
    "pop = sim.Population(2, sim.IF_curr_exp(), label=\"pop\")\n",
    "input = sim.Population(2, sim.SpikeSourceArray([[0.0], [1.0]]), label=\"input\")\n",
    "\n",
    "input_proj = sim.Projection(input, pop, sim.OneToOneConnector(\n",
    "), synapse_type=sim.StaticSynapse(weight=5.0, delay=2))\n",
    "\n",
    "pop.record([\"spikes\", \"v\"])\n",
    "\n",
    "simtime = 10"
   ]
  },
  {
   "cell_type": "code",
   "execution_count": 3,
   "metadata": {},
   "outputs": [
    {
     "name": "stderr",
     "output_type": "stream",
     "text": [
      "2022-03-14 16:33:39 INFO: [Reports]write_board_chip_report has been set to False as using virtual boards\n",
      "2022-03-14 16:33:39 INFO: Starting execution process\n",
      "2022-03-14 16:33:39 INFO: Simulating for 10 1.0ms timesteps using a hardware timestep of 10000us\n",
      "2022-03-14 16:33:39 INFO: Created a virtual machine which has 864 cores and 120.0 links\n",
      "2022-03-14 16:33:39 INFO: Time 0:00:00.003432 taken by VirtualMachineGenerator\n",
      "Preallocating resources for Extra Monitor support vertices\n",
      "|0%                          50%                         100%|\n",
      " ============================================================\n",
      "2022-03-14 16:33:39 INFO: Time 0:00:00.018756 taken by PreAllocateResourcesForExtraMonitorSupport\n",
      "2022-03-14 16:33:39 INFO: Time 0:00:00.000170 taken by NetworkSpecificationReport\n",
      "Allocating virtual identifiers\n",
      "|0%                          50%                         100%|\n",
      " ============================================================\n",
      "2022-03-14 16:33:39 INFO: Time 0:00:00.018983 taken by MallocBasedChipIDAllocator\n",
      "Adding Splitter selectors where appropriate\n",
      "|0%                          50%                         100%|\n",
      " ============================================================\n",
      "2022-03-14 16:33:39 INFO: Time 0:00:00.005444 taken by SpynnakerSplitterSelector\n",
      "Adding delay extensions as required\n",
      "|0%                          50%                         100%|\n",
      " ============================================================\n",
      "2022-03-14 16:33:39 INFO: Time 0:00:00.005181 taken by DelaySupportAdder\n",
      "Partitioning graph vertices\n",
      "|0%                          50%                         100%|\n",
      " ============================================================\n",
      "Partitioning graph edges\n",
      "|0%                          50%                         100%|\n",
      " ============================================================\n",
      "2022-03-14 16:33:39 INFO: Time 0:00:00.011668 taken by SpYNNakerSplitterPartitioner\n",
      "Inserting extra monitors into graphs\n",
      "|0%                          50%                         100%|\n",
      " ============================================================\n",
      "2022-03-14 16:33:39 INFO: Time 0:00:00.020697 taken by InsertExtraMonitorVerticesToGraphs\n",
      "Generating partitioner report\n",
      "|0%                          50%                         100%|\n",
      " ============================================================\n",
      "2022-03-14 16:33:39 INFO: Time 0:00:00.021944 taken by PartitionerReport\n",
      "Getting number of keys required by each edge using application graph\n",
      "|0%                          50%                         100%|\n",
      " ============================================================\n",
      "2022-03-14 16:33:39 INFO: Time 0:00:00.015625 taken by EdgeToNKeysMapper\n",
      "2022-03-14 16:33:39 INFO: The time scale factor could be reduced to 0\n",
      "2022-03-14 16:33:39 INFO: Time 0:00:00.000514 taken by LocalTDMABuilder\n",
      "Placing graph vertices via spreading over an entire machine\n",
      "|0%                          50%                         100%|\n",
      " ============================================================\n",
      "2022-03-14 16:33:39 INFO: Time 0:00:00.008070 taken by SpreaderPlacer\n",
      "Inserting edges between vertices which require FR speed up functionality.\n",
      "|0%                          50%                         100%|\n",
      " ==============================2022-03-14 16:33:39 INFO: Time 0:00:00.013749 taken by InsertEdgesToExtraMonitorFunctionality\n",
      "Generating routing tables for data in system processes\n",
      "|0%                          50%                         100%|\n",
      " ============================================================\n",
      "2022-03-14 16:33:39 INFO: Time 0:00:00.005483 taken by SystemMulticastRoutingGenerator\n",
      "Generating fixed router routes\n",
      "|0%                          50%                         100%|\n",
      " ============================================================\n",
      "2022-03-14 16:33:39 INFO: Time 0:00:00.004364 taken by FixedRouteRouter\n",
      "Generating placement report\n",
      "|0%                          50%                         100%|\n",
      " ============================================================\n",
      "Generating placement by core report\n",
      "|0%                          50%                         100%|\n",
      " ============================================================\n",
      "2022-03-14 16:33:39 INFO: Time 0:00:00.032044 taken by PlacerReportWithApplicationGraph\n",
      "Routing\n",
      "|0%                          50%                         100%|\n",
      " ============================================================\n",
      "\n",
      "2022-03-14 16:33:39 INFO: Time 0:00:00.016876 taken by NerRouteTrafficAware\n",
      "Discovering tags\n",
      "|0%                          50%                         100%|\n",
      " ============================================================\n",
      "Allocating tags\n",
      "|0%                          50%                         100%|\n",
      " ============================================================\n",
      "2022-03-14 16:33:39 INFO: Time 0:00:00.021990 taken by BasicTagAllocator\n",
      "Reporting Tags\n",
      "|0%                          50%                         100%|\n",
      " ============================================================\n",
      "2022-03-14 16:33:39 INFO: Time 0:00:00.004180 taken by TagReport\n",
      "Getting constraints for machine graph\n",
      "|0%                          50%                         100%|\n",
      " ============================================================\n",
      "2022-03-14 16:33:39 INFO: Time 0:00:00.016875 taken by ProcessPartitionConstraints\n",
      "Calculating zones\n",
      "|0%                          50%                         100%|\n",
      " ============================================================\n",
      "Allocating routing keys\n",
      "|0%                          50%                         100%|\n",
      " ============================================================\n",
      "2022-03-14 16:33:39 INFO: Time 0:00:00.008195 taken by ZonedRoutingInfoAllocator\n",
      "Generating Routing info report\n",
      "|0%                          50%                         100%|\n",
      " ============================================================\n",
      "2022-03-14 16:33:39 INFO: Time 0:00:00.014678 taken by routingInfoReports\n",
      "Generating routing tables\n",
      "|0%                          50%                         100%|\n",
      " ============================================================\n",
      "2022-03-14 16:33:39 INFO: Time 0:00:00.014798 taken by BasicRoutingTableGenerator\n",
      "Compressing routing Tables using PairCompressor\n",
      "|0%                          50%                         100%|\n",
      " ============================================================\n",
      "2022-03-14 16:33:39 INFO: Time 0:00:00.004118 taken by PairCompressor\n",
      "Generating data specifications\n",
      "|0%                          50%                         100%|\n",
      " ============================================================\n",
      "2022-03-14 16:33:39 INFO: Time 0:00:00.042347 taken by SpynnakerDataSpecificationWriter\n",
      "2022-03-14 16:33:39 INFO: Running for 1 steps for a total of 10.0ms\n",
      "2022-03-14 16:33:39 INFO: Run 1 of 1\n",
      "2022-03-14 16:33:39 WARNING: Application will not actually be run as on a virtual board\n",
      "Generating SDRAM usage report\n",
      "|0%                          50%                         100%|\n",
      " ============================================================\n",
      "2022-03-14 16:33:39 INFO: Time 0:00:00.031914 taken by SdramUsageReportPerChip\n",
      "2022-03-14 16:33:47 INFO: Time 0:00:07.227462 taken by DatabaseInterface\n",
      "Getting provenance data from machine graph\n",
      "|0%                          50%                         100%|\n",
      " ============================================================\n",
      "Getting provenance data from application graph\n",
      "|0%                          50%                         100%|\n",
      " ============================================================\n",
      "2022-03-14 16:33:47 INFO: Time 0:00:00.048729 taken by GraphProvenanceGatherer\n"
     ]
    },
    {
     "data": {
      "text/plain": [
       "10.0"
      ]
     },
     "execution_count": 3,
     "metadata": {},
     "output_type": "execute_result"
    }
   ],
   "source": [
    "sim.run(simtime)"
   ]
  },
  {
   "cell_type": "code",
   "execution_count": 4,
   "metadata": {},
   "outputs": [
    {
     "name": "stderr",
     "output_type": "stream",
     "text": [
      "2022-03-14 16:33:47 WARNING: The simulation is using a virtual machine and so has not truly ran, hence the list will be empty\n",
      "2022-03-14 16:33:47 WARNING: Getting data on a whole population when selective recording is active will result in only the requested neurons being returned in numerical order and without repeats.\n",
      "2022-03-14 16:33:47 WARNING: The simulation is using a virtual machine and so has not truly ran, hence the list will be empty\n"
     ]
    },
    {
     "name": "stdout",
     "output_type": "stream",
     "text": [
      "[<AnalogSignal(array([], shape=(0, 3), dtype=float64) * mV, [0.0 ms, 0.0 ms], sampling rate: 1.0 1/ms)>]\n",
      "[<SpikeTrain(array([], dtype=float64) * ms, [0.0 ms, 10.0 ms])>, <SpikeTrain(array([], dtype=float64) * ms, [0.0 ms, 10.0 ms])>]\n"
     ]
    }
   ],
   "source": [
    "v = pop.get_data(\"v\")\n",
    "spikes = pop.get_data(\"spikes\")\n",
    "\n",
    "print(v.segments[0].filter(name=\"v\"))\n",
    "print(spikes.segments[0].spiketrains)"
   ]
  },
  {
   "cell_type": "code",
   "execution_count": 5,
   "metadata": {},
   "outputs": [
    {
     "name": "stderr",
     "output_type": "stream",
     "text": [
      "2022-03-14 16:33:50 WARNING: No artists with labels found to put in legend.  Note that artists whose label start with an underscore are ignored when legend() is called with no argument.\n"
     ]
    },
    {
     "data": {
      "image/png": "[encoded data removed]",
      "text/plain": [
       "<Figure size 432x374.4 with 2 Axes>"
      ]
     },
     "metadata": {
      "needs_background": "light"
     },
     "output_type": "display_data"
    }
   ],
   "source": [
    "figure_filename = \"results.png\"\n",
    "figure = Figure(\n",
    "    Panel(spikes.segments[0].spiketrains, yticks=True,\n",
    "          markersize=0.2, xlim=(0, simtime)),\n",
    "    Panel(v.segments[0].filter(name=\"v\")[0], ylabel=\"Membrane potential (mV)\", data_labels=[\n",
    "          pop.label], yticks=True, xlim=(0, simtime)),\n",
    "    title=\"Task 1-1\",\n",
    "    annotations=\"Simulated with {}\".format(sim.name())\n",
    ")\n",
    "figure.save(figure_filename)"
   ]
  },
  {
   "cell_type": "code",
   "execution_count": 6,
   "metadata": {},
   "outputs": [],
   "source": [
    "sim.end()"
   ]
  },
  {
   "cell_type": "code",
   "execution_count": null,
   "metadata": {},
   "outputs": [],
   "source": []
  }
 ],
 "metadata": {
  "interpreter": {
   "hash": "54a05b1bd39d3aac21514bc27352f7b1e824aff51d988396723771f6e4a86826"
  },
  "kernelspec": {
   "display_name": "Python 3.8.9 64-bit ('spinnaker')",
   "language": "python",
   "name": "python3"
  },
  "language_info": {
   "codemirror_mode": {
    "name": "ipython",
    "version": 3
   },
   "file_extension": ".py",
   "mimetype": "text/x-python",
   "name": "python",
   "nbconvert_exporter": "python",
   "pygments_lexer": "ipython3",
   "version": "3.8.9"
  },
  "orig_nbformat": 4
 },
 "nbformat": 4,
 "nbformat_minor": 2
}
